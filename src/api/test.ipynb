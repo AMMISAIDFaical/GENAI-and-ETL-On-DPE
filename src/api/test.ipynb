{
 "cells": [
  {
   "cell_type": "code",
   "execution_count": 6,
   "id": "9b09b411",
   "metadata": {},
   "outputs": [
    {
     "name": "stdout",
     "output_type": "stream",
     "text": [
      "Response Status Code: 200\n"
     ]
    },
    {
     "data": {
      "text/plain": [
       "0             LYON 08\n",
       "1      ST JEAN DE LUZ\n",
       "2            Illkirch\n",
       "3             SEYSSEL\n",
       "4           LE BOULOU\n",
       "5               BREST\n",
       "6              VAUDES\n",
       "7    MARSEILLE - 7EME\n",
       "8                LYON\n",
       "9             PAMIERS\n",
       "Name: commune, dtype: object"
      ]
     },
     "metadata": {},
     "output_type": "display_data"
    }
   ],
   "source": [
    "import requests\n",
    "import pandas as pd\n",
    "# URL of the API\n",
    "url = \"https://public.opendatasoft.com/api/explore/v2.1/catalog/datasets/base-des-diagnostics-de-performance-energetique-dpe-des-batiments-non-residentie/records\"\n",
    "params = {\n",
    "    \"limit\": 10,\n",
    "    \"offset\": 0,\n",
    "    \"timezone\": \"UTC\",\n",
    "    \"include_links\": \"false\",\n",
    "    \"include_app_metas\": \"false\"\n",
    "}\n",
    "\n",
    "# Headers\n",
    "headers = {\n",
    "    \"accept\": \"application/json; charset=utf-8\"\n",
    "}\n",
    "\n",
    "# Make GET request\n",
    "response = requests.get(url, headers=headers, params=params)\n",
    "print(f\"Response Status Code: {response.status_code}\")\n",
    "\n",
    "if response.status_code == 200:\n",
    "    data = response.json()\n",
    "    \n",
    "    # Extract fields directly from each result\n",
    "    records = [record for record in data['results']]\n",
    "\n",
    "    # Convert to DataFrame\n",
    "    df = pd.DataFrame(records)\n",
    "\n",
    "    df.head()\n",
    "    display(df['commune'])\n",
    "    \n",
    "\n",
    "\n",
    "\n"
   ]
  },
  {
   "cell_type": "code",
   "execution_count": 14,
   "id": "fee39e3b",
   "metadata": {},
   "outputs": [
    {
     "name": "stdout",
     "output_type": "stream",
     "text": [
      "{'annee_construction': None,\n",
      " 'annee_n': None,\n",
      " 'annee_n_1': None,\n",
      " 'annee_n_2': None,\n",
      " 'classe_consommation_energie': 'N',\n",
      " 'classe_estimation_ges': 'N',\n",
      " 'code_insee_commune_corrige': None,\n",
      " 'commune': 'ST JEAN DE LUZ',\n",
      " 'consommation_energie': 0.0,\n",
      " 'consommation_n': None,\n",
      " 'consommation_n_1': None,\n",
      " 'consommation_n_2': None,\n",
      " 'cout_n': None,\n",
      " 'cout_n_1': None,\n",
      " 'cout_n_2': None,\n",
      " 'estimation_ges': 0.0,\n",
      " 'nom_dep': None,\n",
      " 'nom_epci': None,\n",
      " 'nom_reg': None,\n",
      " 'numero_dpe': '1864C2000004I',\n",
      " 'secteur_activite': 'Centres Commerciaux',\n",
      " 'shon': 345.0,\n",
      " 'surface_commerciale_contractuelle': 100.0,\n",
      " 'surface_thermique_parties_communes': 0.0,\n",
      " 'surface_utile': 100.0,\n",
      " 'tr001_modele_dpe_id': 'Consommation par Energie',\n",
      " 'tr002_type_batiment_id': 'Centres commerciaux',\n",
      " 'tr004_type_energie_id': None,\n",
      " 'tr006_type_usage_id': None,\n",
      " 'tr012_categorie_erp_id': None,\n",
      " 'tr013_type_erp_id': None,\n",
      " 'tv016_departement_id': 64,\n",
      " 'unite_consommation': None}\n"
     ]
    }
   ],
   "source": [
    "from pprint import pprint\n",
    "\n",
    "first_record = data['results'][1]\n",
    "pprint(first_record)\n"
   ]
  }
 ],
 "metadata": {
  "kernelspec": {
   "display_name": "venv (3.10.12)",
   "language": "python",
   "name": "python3"
  },
  "language_info": {
   "codemirror_mode": {
    "name": "ipython",
    "version": 3
   },
   "file_extension": ".py",
   "mimetype": "text/x-python",
   "name": "python",
   "nbconvert_exporter": "python",
   "pygments_lexer": "ipython3",
   "version": "3.10.12"
  }
 },
 "nbformat": 4,
 "nbformat_minor": 5
}
