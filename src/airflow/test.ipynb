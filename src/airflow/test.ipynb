{
 "cells": [
  {
   "cell_type": "code",
   "execution_count": 2,
   "id": "e5d55f6e",
   "metadata": {},
   "outputs": [
    {
     "name": "stdout",
     "output_type": "stream",
     "text": [
      "=== DATABASE INSPECTION ===\n",
      "📊 Tables: []\n",
      "\n",
      "✅ Inspection complete!\n"
     ]
    }
   ],
   "source": [
    "import sqlite3\n",
    "\n",
    "# Connect to database\n",
    "conn = sqlite3.connect('dpe_data.db')\n",
    "cursor = conn.cursor()\n",
    "\n",
    "print('=== DATABASE INSPECTION ===')\n",
    "\n",
    "# Show tables\n",
    "cursor.execute('SELECT name FROM sqlite_master WHERE type=\\\"table\\\";')\n",
    "tables = cursor.fetchall()\n",
    "print(f'📊 Tables: {[t[0] for t in tables]}')\n",
    "\n",
    "# For each table, show structure and data\n",
    "for table in tables:\n",
    "    table_name = table[0]\n",
    "    print(f'\\n--- TABLE: {table_name} ---')\n",
    "    \n",
    "    # Show schema\n",
    "    cursor.execute(f'PRAGMA table_info({table_name});')\n",
    "    columns = cursor.fetchall()\n",
    "    print('📋 Columns:')\n",
    "    for col in columns:\n",
    "        print(f'  - {col[1]} ({col[2]})')\n",
    "    \n",
    "    # Show row count\n",
    "    cursor.execute(f'SELECT COUNT(*) FROM {table_name};')\n",
    "    count = cursor.fetchone()[0]\n",
    "    print(f'📈 Total rows: {count}')\n",
    "    \n",
    "    # Show first 5 rows\n",
    "    if count > 0:\n",
    "        cursor.execute(f'SELECT * FROM {table_name} LIMIT 5;')\n",
    "        rows = cursor.fetchall()\n",
    "        print('🔍 First 5 rows:')\n",
    "        col_names = [desc[0] for desc in cursor.description]\n",
    "        print('  Columns:', col_names)\n",
    "        for i, row in enumerate(rows, 1):\n",
    "            print(f'  Row {i}: {row}')\n",
    "\n",
    "conn.close()\n",
    "print('\\n✅ Inspection complete!')\n",
    "\n"
   ]
  },
  {
   "cell_type": "code",
   "execution_count": 5,
   "id": "f7a0a969",
   "metadata": {},
   "outputs": [
    {
     "name": "stdout",
     "output_type": "stream",
     "text": [
      "<sqlite3.Connection object at 0x77ec595fee40>\n"
     ]
    }
   ],
   "source": [
    "import sqlite3\n",
    "\n",
    "# Use a file in the current folder\n",
    "conn = sqlite3.connect('dpe_data.db')\n",
    "print(conn)"
   ]
  }
 ],
 "metadata": {
  "kernelspec": {
   "display_name": "venv (3.10.12)",
   "language": "python",
   "name": "python3"
  },
  "language_info": {
   "codemirror_mode": {
    "name": "ipython",
    "version": 3
   },
   "file_extension": ".py",
   "mimetype": "text/x-python",
   "name": "python",
   "nbconvert_exporter": "python",
   "pygments_lexer": "ipython3",
   "version": "3.10.12"
  }
 },
 "nbformat": 4,
 "nbformat_minor": 5
}
